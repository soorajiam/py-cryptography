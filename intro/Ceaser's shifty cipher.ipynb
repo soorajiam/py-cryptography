{
 "cells": [
  {
   "cell_type": "markdown",
   "id": "234bde82",
   "metadata": {},
   "source": [
    "## substituition table"
   ]
  },
  {
   "cell_type": "code",
   "execution_count": 4,
   "id": "1607c5e1",
   "metadata": {},
   "outputs": [
    {
     "name": "stdout",
     "output_type": "stream",
     "text": [
      "{'A': 'F', 'B': 'G', 'C': 'H', 'D': 'I', 'E': 'J', 'F': 'K', 'G': 'L', 'H': 'M', 'I': 'N', 'J': 'O', 'K': 'P', 'L': 'Q', 'M': 'R', 'N': 'S', 'O': 'T', 'P': 'U', 'Q': 'V', 'R': 'W', 'S': 'X', 'T': 'Y', 'U': 'Z', 'V': 'A', 'W': 'B', 'X': 'C', 'Y': 'D', 'Z': 'E'} {'F': 'A', 'G': 'B', 'H': 'C', 'I': 'D', 'J': 'E', 'K': 'F', 'L': 'G', 'M': 'H', 'N': 'I', 'O': 'J', 'P': 'K', 'Q': 'L', 'R': 'M', 'S': 'N', 'T': 'O', 'U': 'P', 'V': 'Q', 'W': 'R', 'X': 'S', 'Y': 'T', 'Z': 'U', 'A': 'V', 'B': 'W', 'C': 'X', 'D': 'Y', 'E': 'Z'}\n"
     ]
    }
   ],
   "source": [
    "# partial listing\n",
    "import string\n",
    "def create_shift_substituitions(n):\n",
    "    encoding = {}\n",
    "    decoding = {}\n",
    "    alphabet_size = len(string.ascii_uppercase)\n",
    "    for i in range(alphabet_size):\n",
    "#         print(f'i: {i}, n : {n}, i+n:  {i+n}, i+n%count{(i+n) % alphabet_size}')\n",
    "        letter = string.ascii_uppercase[i]\n",
    "        subst_letter = string.ascii_uppercase[(i+n) % alphabet_size]\n",
    "        encoding[letter] = subst_letter\n",
    "        decoding[subst_letter] = letter\n",
    "    print(encoding, decoding)\n",
    "create_shift_substituitions(5)"
   ]
  },
  {
   "cell_type": "code",
   "execution_count": null,
   "id": "f3a8fe7e",
   "metadata": {},
   "outputs": [],
   "source": []
  }
 ],
 "metadata": {
  "kernelspec": {
   "display_name": "Python 3",
   "language": "python",
   "name": "python3"
  },
  "language_info": {
   "codemirror_mode": {
    "name": "ipython",
    "version": 3
   },
   "file_extension": ".py",
   "mimetype": "text/x-python",
   "name": "python",
   "nbconvert_exporter": "python",
   "pygments_lexer": "ipython3",
   "version": "3.8.8"
  }
 },
 "nbformat": 4,
 "nbformat_minor": 5
}
